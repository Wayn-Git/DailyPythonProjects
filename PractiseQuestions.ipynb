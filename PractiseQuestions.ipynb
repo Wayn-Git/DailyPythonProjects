{
 "cells": [
  {
   "cell_type": "markdown",
   "id": "63371707",
   "metadata": {},
   "source": [
    "# Own Version of max and min"
   ]
  },
  {
   "cell_type": "code",
   "execution_count": 22,
   "id": "2bd5864e",
   "metadata": {},
   "outputs": [],
   "source": [
    "class MaxMin: \n",
    "    \n",
    "    def __init__(self, numbers: list[int]):\n",
    "        if not numbers:\n",
    "            raise ValueError(\"List is empty\")\n",
    "        self.numbers = numbers\n",
    "\n",
    "    def Max(self):\n",
    "        Max = self.numbers[0]\n",
    "        for i in range(len(self.numbers)):\n",
    "            if Max < self.numbers[i]:\n",
    "                Max = self.numbers[i]\n",
    "\n",
    "        return Max\n",
    "    \n",
    "    def Min(self):\n",
    "        Min = self.numbers[0]\n",
    "        size = len(self.numbers)\n",
    "        for i in range(size):\n",
    "            if self.numbers[i] < Min:\n",
    "                Min = self.numbers[i]\n",
    "        return Min\n",
    "                \n",
    "\n",
    "            "
   ]
  },
  {
   "cell_type": "code",
   "execution_count": 23,
   "id": "ebb9a96b",
   "metadata": {},
   "outputs": [
    {
     "name": "stdout",
     "output_type": "stream",
     "text": [
      "34\n",
      "1\n"
     ]
    }
   ],
   "source": [
    "Max_Int = MaxMin([2,3,2,34,4])\n",
    "\n",
    "Min_Int = MaxMin([2,3,1,34,4])\n",
    "\n",
    "print(Max_Int.Max())\n",
    "\n",
    "print(Min_Int.Min())\n"
   ]
  },
  {
   "cell_type": "markdown",
   "id": "6c28d294",
   "metadata": {},
   "source": [
    "# Reverse a string without using slicing ([::-1])."
   ]
  },
  {
   "cell_type": "code",
   "execution_count": 39,
   "id": "0a5c2b7d",
   "metadata": {},
   "outputs": [
    {
     "name": "stdout",
     "output_type": "stream",
     "text": [
      "olleH\n"
     ]
    }
   ],
   "source": [
    "test_string = \"Hello\"\n",
    "rev = \"\"\n",
    "\n",
    "for char in range(len(test_string)-1, -1, -1):\n",
    "    rev =  rev + test_string[char] \n",
    "\n",
    "print(rev)\n"
   ]
  },
  {
   "cell_type": "markdown",
   "id": "560834d6",
   "metadata": {},
   "source": [
    "# Check if two strings are anagram"
   ]
  },
  {
   "cell_type": "code",
   "execution_count": null,
   "id": "f320318f",
   "metadata": {},
   "outputs": [
    {
     "name": "stdout",
     "output_type": "stream",
     "text": [
      "anagram\n"
     ]
    }
   ],
   "source": [
    "\n",
    "\n",
    "string_1 = \"restful\"\n",
    "string_2 = \"fluster\"\n",
    "\n",
    "if sorted(string_1) == sorted(string_2):\n",
    "    print(\"anagram\")\n",
    "else: \n",
    "    print(\"Not a anagram\")"
   ]
  },
  {
   "cell_type": "code",
   "execution_count": 48,
   "id": "54c879c5",
   "metadata": {},
   "outputs": [
    {
     "name": "stdout",
     "output_type": "stream",
     "text": [
      "TARGET FOUND\n"
     ]
    }
   ],
   "source": [
    "# Binary Search\n",
    "\n",
    "List = [2,3,1,2,3,2,3,4,5,3,2,55]\n",
    "\n",
    "List.sort()\n",
    "\n",
    "low = 0\n",
    "high = len(List) - 1\n",
    "\n",
    "target = 55\n",
    "\n",
    "\n",
    "while low<=high: \n",
    "\n",
    "    mid = (low + high) // 2\n",
    "\n",
    "    if List[mid] == target: \n",
    "        print(\"TARGET FOUND\")\n",
    "        break\n",
    "    elif mid > target: \n",
    "        high = mid - 1\n",
    "    elif mid < target:\n",
    "        low = mid + 1\n",
    "         "
   ]
  },
  {
   "cell_type": "code",
   "execution_count": 1,
   "id": "ce188c2d",
   "metadata": {},
   "outputs": [
    {
     "name": "stdout",
     "output_type": "stream",
     "text": [
      "[3, 3, 4, 4, 5, 6, 6, 6, 6, 8, 54, 98]\n"
     ]
    }
   ],
   "source": [
    "kul = [5,3,4,6,6,4,3,6,8,98,6,54]\n",
    "\n",
    "size = len(kul)\n",
    "\n",
    "for i in range(size):\n",
    "  for j in range(0, size - i - 1):\n",
    "     if(kul[j] > kul[j+1]):\n",
    "       kul[j], kul[j+1] =  kul[j+1], kul[j]\n",
    "       \n",
    "       \n",
    "print(kul)"
   ]
  }
 ],
 "metadata": {
  "kernelspec": {
   "display_name": "Python 3",
   "language": "python",
   "name": "python3"
  },
  "language_info": {
   "codemirror_mode": {
    "name": "ipython",
    "version": 3
   },
   "file_extension": ".py",
   "mimetype": "text/x-python",
   "name": "python",
   "nbconvert_exporter": "python",
   "pygments_lexer": "ipython3",
   "version": "3.12.11"
  }
 },
 "nbformat": 4,
 "nbformat_minor": 5
}
